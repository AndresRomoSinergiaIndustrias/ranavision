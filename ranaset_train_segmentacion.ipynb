{
 "cells": [
  {
   "cell_type": "code",
   "execution_count": 2,
   "metadata": {},
   "outputs": [
    {
     "name": "stderr",
     "output_type": "stream",
     "text": [
      "/tmp/ipykernel_20281/2556790057.py:5: DeprecationWarning: \n",
      "Pyarrow will become a required dependency of pandas in the next major release of pandas (pandas 3.0),\n",
      "(to allow more performant data types, such as the Arrow string type, and better interoperability with other libraries)\n",
      "but was not found to be installed on your system.\n",
      "If this would cause problems for you,\n",
      "please provide us feedback at https://github.com/pandas-dev/pandas/issues/54466\n",
      "        \n",
      "  import pandas as pd\n"
     ]
    }
   ],
   "source": [
    "import os\n",
    "import json\n",
    "import matplotlib.pyplot as plt\n",
    "import numpy as np\n",
    "import pandas as pd\n",
    "from tqdm import tqdm\n",
    "from sklearn.utils import shuffle\n",
    "\n",
    "import cv2\n",
    "import albumentations as A\n",
    "from albumentations.pytorch import *\n",
    "\n",
    "from pycocotools.coco import COCO\n",
    "from pycocotools.mask import toBbox,encode\n",
    "\n",
    "import torch\n",
    "import torch.nn as nn\n",
    "import torchvision\n",
    "from torch.utils.data import Dataset, DataLoader\n",
    "from torchvision.transforms import v2\n",
    "\n",
    "device = 'cuda'"
   ]
  },
  {
   "cell_type": "code",
   "execution_count": 3,
   "metadata": {},
   "outputs": [],
   "source": [
    "\n",
    "class BinaryDiceLoss(nn.Module):\n",
    "    \"\"\"Dice loss of binary class\n",
    "    Args:\n",
    "        smooth: A float number to smooth loss, and avoid NaN error, default: 1\n",
    "        p: Denominator value: \\sum{x^p} + \\sum{y^p}, default: 2\n",
    "        predict: A tensor of shape [N, *]\n",
    "        target: A tensor of shape same with predict\n",
    "        reduction: Reduction method to apply, return mean over batch if 'mean',\n",
    "            return sum if 'sum', return a tensor of shape [N,] if 'none'\n",
    "    Returns:\n",
    "        Loss tensor according to arg reduction\n",
    "    Raise:\n",
    "        Exception if unexpected reduction\n",
    "    \"\"\"\n",
    "    def __init__(self, smooth=1, p=2, reduction='mean'):\n",
    "        super(BinaryDiceLoss, self).__init__()\n",
    "        self.smooth = smooth\n",
    "        self.p = p\n",
    "        self.reduction = reduction\n",
    "\n",
    "    def forward(self, predict, target):\n",
    "        assert predict.shape[0] == target.shape[0], \"predict & target batch size don't match\"\n",
    "        predict = predict.contiguous().view(predict.shape[0], -1)\n",
    "        target = target.contiguous().view(target.shape[0], -1)\n",
    "\n",
    "        num = torch.sum(torch.mul(predict, target), dim=1) + self.smooth\n",
    "        den = torch.sum(predict.pow(self.p) + target.pow(self.p), dim=1) + self.smooth\n",
    "\n",
    "        loss = 1 - num / den\n",
    "\n",
    "        if self.reduction == 'mean':\n",
    "            return loss.mean()\n",
    "        elif self.reduction == 'sum':\n",
    "            return loss.sum()\n",
    "        elif self.reduction == 'none':\n",
    "            return loss\n",
    "        else:\n",
    "            raise Exception('Unexpected reduction {}'.format(self.reduction))"
   ]
  },
  {
   "cell_type": "code",
   "execution_count": 4,
   "metadata": {},
   "outputs": [
    {
     "name": "stdout",
     "output_type": "stream",
     "text": [
      "loading annotations into memory...\n",
      "Done (t=0.00s)\n",
      "creating index...\n",
      "index created!\n"
     ]
    }
   ],
   "source": [
    "class RanaSet(Dataset):\n",
    "    def __init__(self,im_folder):\n",
    "\n",
    "        self.im_folder = im_folder\n",
    "        with open('annos.json','r') as file:\n",
    "            self.annos = json.load(file)\n",
    "        self.annos['images'] = shuffle(self.annos['images'])\n",
    "        self.coco = COCO('annos.json')\n",
    "\n",
    "        self.transform = A.Compose([A.ChannelShuffle(p=0.5),\n",
    "                                    A.RandomBrightnessContrast(p=0.4,brightness_limit=0.2, contrast_limit=0.2),\n",
    "                                    A.SafeRotate(p=0.7,limit=15),\n",
    "                                    A.GaussNoise(p=0.4),\n",
    "                                    A.Resize(693,520),\n",
    "                                    A.ToFloat(max_value=255),\n",
    "                                    ToTensorV2()])\n",
    "\n",
    "\n",
    "    def getImID(self,idx):\n",
    "        return self.annos['images'][idx]['id']\n",
    "\n",
    "    def getAnno(self,idx):\n",
    "        id = self.getImID(idx)\n",
    "        return next(anno for anno in self.annos['annotations'] if anno['image_id']==id)\n",
    "\n",
    "    def getImage(self,idx):\n",
    "        id = self.getImID(idx)\n",
    "        filename = next(item['file_name'] for item in self.annos['images'] if item['id']==id )\n",
    "        im = cv2.imread(self.im_folder + filename)\n",
    "        return im\n",
    "        \n",
    "    def imshow(self,im,boxes=None):\n",
    "        im2show = np.transpose( 255*im.cpu().detach().numpy(), [1,2,0] ).astype(np.uint8).copy()\n",
    "        if boxes is not None:\n",
    "            for box in boxes:\n",
    "                box = [int(x.item()) for x in box]\n",
    "                p1 = (box[0],box[1])\n",
    "                p2 = (box[2],box[3])\n",
    "                print( p2 )\n",
    "                cv2.rectangle(im2show,p1,p2,(0,0,255),1)\n",
    "\n",
    "        cv2.imshow('im',im2show)\n",
    "        cv2.waitKey(0)\n",
    "        cv2.destroyAllWindows()\n",
    "        \n",
    "\n",
    "    def __len__(self):\n",
    "        return len(self.annos['images'])\n",
    "\n",
    "    def __getitem__(self, idx):\n",
    "\n",
    "        im = self.getImage(idx)\n",
    "        anno = self.getAnno(idx)\n",
    "        pantalla = self.coco.annToMask(anno)\n",
    "\n",
    "        transformed = self.transform(image=im,mask=pantalla)\n",
    "        im = preprocess(transformed['image'])\n",
    "        im = torch.unsqueeze(im,0).to(device)\n",
    "        pantalla = torch.unsqueeze(transformed['mask'],0)\n",
    "        return im,pantalla\n",
    "\n",
    "ranaset = RanaSet(im_folder='images/')"
   ]
  },
  {
   "cell_type": "code",
   "execution_count": 5,
   "metadata": {},
   "outputs": [],
   "source": [
    "# ===================================================\n",
    "# ===================== MODEL =======================\n",
    "# ===================================================\n",
    "\n",
    "weights = torchvision.models.segmentation.FCN_ResNet50_Weights.DEFAULT\n",
    "model = torchvision.models.segmentation.fcn_resnet50(num_classes=2).to(device)\n",
    "preprocess = weights.transforms()\n",
    "dice_loss = BinaryDiceLoss()\n",
    "optimizer = torch.optim.Adam(model.parameters(),lr=0.0001,weight_decay=1e-4)\n"
   ]
  },
  {
   "cell_type": "code",
   "execution_count": 6,
   "metadata": {},
   "outputs": [],
   "source": [
    "losses_train, losses_valid = [],[]\n",
    "train_len = 200"
   ]
  },
  {
   "cell_type": "code",
   "execution_count": 7,
   "metadata": {},
   "outputs": [
    {
     "name": "stderr",
     "output_type": "stream",
     "text": [
      "100%|██████████| 200/200 [00:43<00:00,  4.58it/s]\n",
      "100%|██████████| 200/200 [00:47<00:00,  4.17it/s]\n",
      "100%|██████████| 200/200 [00:48<00:00,  4.16it/s]\n",
      "100%|██████████| 200/200 [00:48<00:00,  4.16it/s]\n"
     ]
    },
    {
     "data": {
      "image/png": "[encoded data removed]",
      "text/plain": [
       "<Figure size 640x480 with 2 Axes>"
      ]
     },
     "metadata": {},
     "output_type": "display_data"
    }
   ],
   "source": [
    "e_loss = 0\n",
    "for e in range(4):\n",
    "    for i in tqdm(range(train_len)):\n",
    "        model.train()\n",
    "        optimizer.zero_grad()\n",
    "        im,mask_true = ranaset[i]\n",
    "        \n",
    "        mask_pred = model(im)\n",
    "        mask_pred = mask_pred['out'].cpu()[:,1]\n",
    "        loss = dice_loss(mask_pred,mask_true)\n",
    "        loss.backward()\n",
    "        optimizer.step()\n",
    "\n",
    "        e_loss += loss.item()\n",
    "\n",
    "        if i%50==0 and (i!=0 or e!=0):\n",
    "            losses_train.append(e_loss)\n",
    "            e_loss = 0\n",
    "\n",
    "            e_loss_valid = 0\n",
    "            model.eval()\n",
    "            with torch.no_grad():\n",
    "                for j in range(train_len,len(ranaset)):\n",
    "                    im,mask_true = ranaset[j]\n",
    "                    mask_pred = model(im)\n",
    "                    mask_pred = mask_pred['out'].cpu()[:,1]\n",
    "                    loss = dice_loss(mask_pred,mask_true)\n",
    "                    e_loss_valid += loss.item()\n",
    "            losses_valid.append(e_loss_valid)\n",
    "\n",
    "fig,ax = plt.subplots(1,2)\n",
    "ax[0].plot(losses_train)\n",
    "ax[1].plot(losses_valid)\n",
    "plt.show()"
   ]
  },
  {
   "cell_type": "code",
   "execution_count": 8,
   "metadata": {},
   "outputs": [],
   "source": [
    "# SAVE MODEL\n",
    "torch.save(model.state_dict(), 'ranavision_segmentation.pt')"
   ]
  },
  {
   "cell_type": "code",
   "execution_count": 9,
   "metadata": {},
   "outputs": [
    {
     "data": {
      "text/plain": [
       "<All keys matched successfully>"
      ]
     },
     "execution_count": 9,
     "metadata": {},
     "output_type": "execute_result"
    }
   ],
   "source": [
    "# LOAD MODEL\n",
    "model.load_state_dict(torch.load('ranavision_segmentation.pt', map_location=device))"
   ]
  },
  {
   "cell_type": "code",
   "execution_count": 13,
   "metadata": {},
   "outputs": [],
   "source": [
    "# ===================================================\n",
    "# ========= FUNCION PARA VISUALIZAR =================\n",
    "# ===================================================\n",
    "def getPantalla(im,model,device='cpu'):\n",
    "    def getBox(mask):\n",
    "        proyx = mask.sum(axis=0)\n",
    "        proyy = mask.sum(axis=1)\n",
    "\n",
    "        minx,miny,maxx,maxy = 0,0,0,0\n",
    "        for minx in range(len(proyx)):\n",
    "            if proyx[minx]>0:   break\n",
    "\n",
    "        for maxx in reversed(range(len(proyx))):\n",
    "            if proyx[maxx]>0:   break\n",
    "        \n",
    "        for miny in range(len(proyy)):\n",
    "            if proyy[miny]>0:   break\n",
    "\n",
    "        for maxy in reversed(range(len(proyy))):\n",
    "            if proyy[maxy]>0:   break\n",
    "        \n",
    "        return (minx,miny,maxx,maxy)\n",
    "    \n",
    "    transform_eval = A.Compose([A.Resize(693,520),\n",
    "                            A.ToFloat(max_value=255),\n",
    "                            ToTensorV2()])\n",
    "    im2show = transform_eval(image=im)\n",
    "    transformed = preprocess(im2show['image'])\n",
    "    transformed = torch.unsqueeze(transformed,0).to(device)\n",
    "    model.eval()\n",
    "    mask = model(transformed)['out'].cpu().detach().numpy()[0,1]\n",
    "    mask = 1*(mask>0.5)\n",
    "    im2show = im2show['image'].cpu().detach().numpy()\n",
    "    im2show = ( 255*np.transpose( im2show, [1,2,0] ) ).astype(np.uint8)\n",
    "\n",
    "    box = getBox(mask)\n",
    "    return im2show[box[1]:box[3],box[0]:box[2]]"
   ]
  },
  {
   "cell_type": "code",
   "execution_count": 21,
   "metadata": {},
   "outputs": [
    {
     "data": {
      "text/plain": [
       "<matplotlib.image.AxesImage at 0x7ff38470ecd0>"
      ]
     },
     "execution_count": 21,
     "metadata": {},
     "output_type": "execute_result"
    },
    {
     "data": {
      "image/png": "[encoded data removed]",
      "text/plain": [
       "<Figure size 640x480 with 1 Axes>"
      ]
     },
     "metadata": {},
     "output_type": "display_data"
    }
   ],
   "source": [
    "# ===================================================\n",
    "# ================== VIZUALICE ======================\n",
    "# ===================================================\n",
    "\n",
    "im = ranaset.getImage(207)\n",
    "pantalla = getPantalla(im,model,'cuda')\n",
    "plt.imshow(pantalla)\n"
   ]
  },
  {
   "cell_type": "code",
   "execution_count": 12,
   "metadata": {},
   "outputs": [],
   "source": [
    "# Generate segmentations for next step\n",
    "import os\n",
    "for imname in os.listdir('images'):\n",
    "    im = cv2.imread('images/' + imname)\n",
    "    pantalla = getPantalla(im,model,'cuda')\n",
    "    cv2.imwrite('pantalla/' + imname, pantalla)"
   ]
  }
 ],
 "metadata": {
  "kernelspec": {
   "display_name": ".venv",
   "language": "python",
   "name": "python3"
  },
  "language_info": {
   "codemirror_mode": {
    "name": "ipython",
    "version": 3
   },
   "file_extension": ".py",
   "mimetype": "text/x-python",
   "name": "python",
   "nbconvert_exporter": "python",
   "pygments_lexer": "ipython3",
   "version": "3.11.4"
  }
 },
 "nbformat": 4,
 "nbformat_minor": 2
}
