{
 "cells": [
  {
   "cell_type": "code",
   "execution_count": 1,
   "metadata": {},
   "outputs": [],
   "source": [
    "import cv2 \n",
    "import torch\n",
    "import numpy as np\n",
    "import torchvision\n",
    "import albumentations as A\n",
    "import matplotlib.pyplot as plt\n",
    "from albumentations.pytorch import *\n",
    "from torchvision.transforms import v2\n"
   ]
  },
  {
   "cell_type": "code",
   "execution_count": 2,
   "metadata": {},
   "outputs": [],
   "source": [
    "# ======================================\n",
    "# ============ MODELOS =================\n",
    "# ======================================\n",
    "\n",
    "# DEVICE\n",
    "device = 'cuda'         # cuda o cpu ; cuda es gpu\n",
    "\n",
    "# MODELO SEGMENTACION\n",
    "weights = torchvision.models.segmentation.FCN_ResNet50_Weights.DEFAULT\n",
    "preprocess = weights.transforms()\n",
    "model_seg = torchvision.models.segmentation.fcn_resnet50(num_classes=2).to(device)\n",
    "model_seg.load_state_dict(torch.load('ranavision_segmentation.pt', map_location=device))\n",
    "model_seg = model_seg.eval()\n",
    "\n",
    "# MODELO DETECCION\n",
    "model_det = torchvision.models.detection.fasterrcnn_resnet50_fpn(num_classes=11).to(device)\n",
    "model_det.load_state_dict(torch.load('ranavision_detection.pt', map_location=device))\n",
    "model_det = model_det.eval()\n",
    "pass"
   ]
  },
  {
   "cell_type": "code",
   "execution_count": 3,
   "metadata": {},
   "outputs": [],
   "source": [
    "# ===================================================\n",
    "# ========= FUNCIONES DE PREDICCION =================\n",
    "# ===================================================\n",
    "def getPantalla(im,model,device='cpu'):\n",
    "    def getBox(mask):\n",
    "        proyx = mask.sum(axis=0)\n",
    "        proyy = mask.sum(axis=1)\n",
    "\n",
    "        minx,miny,maxx,maxy = 0,0,0,0\n",
    "        for minx in range(len(proyx)):\n",
    "            if proyx[minx]>0:   break\n",
    "\n",
    "        for maxx in reversed(range(len(proyx))):\n",
    "            if proyx[maxx]>0:   break\n",
    "        \n",
    "        for miny in range(len(proyy)):\n",
    "            if proyy[miny]>0:   break\n",
    "\n",
    "        for maxy in reversed(range(len(proyy))):\n",
    "            if proyy[maxy]>0:   break\n",
    "        \n",
    "        return (minx,miny,maxx,maxy)\n",
    "    \n",
    "    transform_eval = A.Compose([A.Resize(693,520),\n",
    "                            A.ToFloat(max_value=255),\n",
    "                            ToTensorV2()])\n",
    "    im2show = transform_eval(image=im)\n",
    "    transformed = preprocess(im2show['image'])\n",
    "    transformed = torch.unsqueeze(transformed,0).to(device)\n",
    "    model.eval()\n",
    "    mask = model(transformed)['out'].cpu().detach().numpy()[0,1]\n",
    "    mask = 1*(mask>0.5)\n",
    "    im2show = im2show['image'].cpu().detach().numpy()\n",
    "    im2show = ( 255*np.transpose( im2show, [1,2,0] ) ).astype(np.uint8)\n",
    "\n",
    "    box = getBox(mask)\n",
    "    return im2show[box[1]:box[3],box[0]:box[2]]\n",
    "\n",
    "def predictDigitos(pantalla,model,device,confianza):\n",
    "    # realizar prediccion\n",
    "    transform = A.Compose([A.ToFloat(max_value=255),ToTensorV2()])\n",
    "    pantalla_ = transform(image=pantalla)['image']\n",
    "    pantalla_ = torch.unsqueeze(pantalla_,0).to(device)\n",
    "    out = model_det(pantalla_)[0]\n",
    "    boxes = out['boxes']\n",
    "    labels = out['labels']\n",
    "    scores = out['scores']\n",
    "\n",
    "    # ordenar prediccion\n",
    "    pred = [ (l.item(),round(s.item(),3),b.cpu().detach().numpy()) for l,s,b in zip(labels,scores,boxes) if s.item() > confianza]\n",
    "    pred = sorted(pred,key=lambda item:item[2][0])\n",
    "    pred = [ (l,s,b) if l!=10 else (0,s,b) for l,s,b in pred ]\n",
    "\n",
    "    return pred"
   ]
  },
  {
   "cell_type": "code",
   "execution_count": 65,
   "metadata": {},
   "outputs": [],
   "source": [
    "# ===================================================\n",
    "# =============== FUNCIONES UTILES ==================\n",
    "# ===================================================\n",
    "\n",
    "def formatDigitos(pred):\n",
    "    try:\n",
    "        return float(''.join([str(l) for l,s,b in pred]))\n",
    "    except:\n",
    "        return False\n",
    "\n",
    "def compareDigitos(pred,number2compare,verbose=False):\n",
    "    if type(number2compare)==str:\n",
    "        number2compare = float(number2compare)\n",
    "\n",
    "    conf = 0.99\n",
    "    while conf>0.5:\n",
    "        pred_ajustada = [ (l,s,b) for l,s,b in pred if s>conf ]\n",
    "        pred_ajustada = formatDigitos(pred_ajustada)\n",
    "        if verbose: \n",
    "            print(pred_ajustada)\n",
    "        if pred_ajustada == number2compare:\n",
    "            return conf\n",
    "        conf -= 0.01\n",
    "    return 0"
   ]
  },
  {
   "cell_type": "code",
   "execution_count": 66,
   "metadata": {},
   "outputs": [
    {
     "data": {
      "text/plain": [
       "751.0"
      ]
     },
     "execution_count": 66,
     "metadata": {},
     "output_type": "execute_result"
    }
   ],
   "source": [
    "# FUNCIONES PARA ENCONTRAR EL THREHOLD PERFECTO\n",
    "import json\n",
    "import pandas as pd\n",
    "with open('annos.json','r') as file:\n",
    "    annos = json.load(file)\n",
    "boxes = pd.read_csv('boxes.csv')\n",
    "\n",
    "def getOrigalNumberInImage(imname):\n",
    "    number = boxes[boxes['image_name']==imname].apply(lambda row:(row['label_name'],row['bbox_x']),axis=1).to_list()\n",
    "    number = sorted(number,key=lambda item:item[1])\n",
    "    number = [str(item[0]) for item in number]\n",
    "    return float(''.join(number))\n",
    "\n",
    "getOrigalNumberInImage(annos['images'][0]['file_name'])"
   ]
  },
  {
   "cell_type": "code",
   "execution_count": 103,
   "metadata": {},
   "outputs": [],
   "source": [
    "# ======================================\n",
    "# =============== TEST =================\n",
    "# ======================================\n",
    "confs = {\n",
    "    # 0.90:[],\n",
    "    # 0.85:[],\n",
    "    # 0.80:[],\n",
    "    0.75:[],\n",
    "    0.70:[],\n",
    "    0.65:[],\n",
    "}\n",
    "for conf in confs:\n",
    "    for anno in annos['images']:\n",
    "        imname = anno['file_name']\n",
    "        true_number = getOrigalNumberInImage(imname)\n",
    "        im = cv2.imread(f'images/{imname}')\n",
    "        pantalla = getPantalla(im,model_seg,device)\n",
    "        pred = predictDigitos(pantalla,model_det,device,conf)\n",
    "        confs[conf].append( compareDigitos(pred,true_number) )"
   ]
  },
  {
   "cell_type": "code",
   "execution_count": 102,
   "metadata": {},
   "outputs": [
    {
     "name": "stdout",
     "output_type": "stream",
     "text": [
      "0.9 20 [0, 0, 0, 0, 0, 0, 0.9099999999999999, 0, 0, 0, 0, 0.99, 0, 0, 0, 0, 0, 0, 0, 0, 0, 0, 0, 0, 0, 0, 0, 0, 0, 0, 0, 0, 0, 0, 0.9299999999999999, 0, 0, 0, 0, 0, 0.94, 0, 0, 0, 0, 0.95, 0, 0, 0, 0, 0.95, 0, 0, 0, 0, 0.8999999999999999, 0, 0.9099999999999999, 0.9199999999999999, 0, 0, 0, 0.96, 0, 0, 0, 0, 0, 0, 0, 0, 0, 0, 0, 0.8999999999999999, 0, 0, 0, 0, 0, 0, 0, 0, 0, 0, 0, 0, 0, 0, 0, 0, 0, 0, 0, 0, 0, 0, 0, 0, 0, 0, 0, 0, 0, 0, 0, 0, 0, 0, 0, 0, 0, 0, 0, 0, 0, 0, 0, 0, 0.94, 0, 0.95, 0, 0, 0, 0, 0, 0, 0, 0, 0, 0, 0, 0, 0, 0, 0.9299999999999999, 0, 0, 0, 0, 0, 0, 0, 0, 0, 0, 0, 0, 0, 0, 0, 0, 0, 0.94, 0, 0, 0, 0, 0, 0, 0.99, 0, 0, 0, 0, 0, 0, 0, 0, 0, 0, 0, 0, 0, 0, 0.9299999999999999, 0, 0, 0, 0, 0, 0, 0, 0, 0, 0, 0, 0, 0.9199999999999999, 0, 0.9199999999999999, 0, 0, 0, 0, 0, 0, 0, 0, 0, 0, 0, 0, 0, 0, 0, 0, 0, 0, 0, 0, 0, 0, 0, 0, 0, 0, 0, 0, 0, 0, 0, 0, 0, 0, 0, 0, 0, 0, 0, 0, 0, 0, 0, 0, 0, 0, 0, 0, 0, 0, 0, 0, 0, 0, 0, 0, 0, 0, 0, 0, 0, 0, 0, 0, 0, 0.9099999999999999, 0, 0, 0, 0, 0]\n",
      "0.85 48 [0, 0, 0, 0.8799999999999999, 0, 0.8699999999999999, 0.9099999999999999, 0.8899999999999999, 0, 0, 0, 0.99, 0, 0, 0, 0, 0, 0, 0, 0.8899999999999999, 0, 0, 0, 0.8499999999999999, 0, 0, 0, 0, 0, 0, 0, 0, 0.8599999999999999, 0, 0.9299999999999999, 0, 0, 0.8799999999999999, 0, 0, 0.94, 0, 0, 0.8599999999999999, 0.8599999999999999, 0.95, 0, 0.8899999999999999, 0, 0, 0.95, 0, 0, 0, 0, 0.8999999999999999, 0.8699999999999999, 0.9099999999999999, 0.9199999999999999, 0, 0, 0, 0.96, 0, 0, 0.8799999999999999, 0, 0, 0, 0.8899999999999999, 0.8699999999999999, 0, 0, 0, 0.8999999999999999, 0, 0, 0.8899999999999999, 0.8599999999999999, 0, 0, 0, 0, 0.8599999999999999, 0, 0, 0, 0, 0, 0, 0, 0, 0, 0, 0, 0, 0, 0, 0, 0, 0, 0, 0.8899999999999999, 0, 0, 0, 0, 0, 0, 0, 0, 0, 0, 0, 0, 0, 0.8699999999999999, 0, 0, 0.94, 0, 0.95, 0, 0, 0, 0, 0.8899999999999999, 0, 0, 0, 0, 0, 0, 0, 0, 0, 0.9299999999999999, 0, 0, 0, 0, 0, 0, 0, 0, 0, 0, 0, 0, 0, 0, 0, 0, 0, 0.94, 0, 0.8699999999999999, 0, 0, 0, 0, 0.99, 0, 0, 0.8599999999999999, 0, 0, 0, 0.8499999999999999, 0, 0, 0, 0, 0, 0, 0, 0.9299999999999999, 0, 0, 0, 0, 0.8799999999999999, 0.8599999999999999, 0, 0, 0, 0, 0, 0, 0.9199999999999999, 0, 0.9199999999999999, 0.8799999999999999, 0, 0, 0, 0, 0, 0, 0, 0, 0, 0, 0, 0, 0, 0, 0, 0, 0, 0, 0, 0, 0, 0, 0, 0, 0.8799999999999999, 0, 0, 0, 0, 0, 0, 0, 0, 0, 0, 0, 0, 0, 0, 0, 0, 0, 0, 0, 0, 0, 0, 0, 0, 0, 0, 0, 0, 0, 0, 0, 0, 0, 0, 0, 0, 0, 0, 0, 0.9099999999999999, 0, 0.8799999999999999, 0, 0, 0]\n",
      "0.8 74 [0.8399999999999999, 0, 0, 0.8799999999999999, 0.7999999999999998, 0.8699999999999999, 0.9099999999999999, 0.8899999999999999, 0, 0, 0, 0.99, 0.8399999999999999, 0.8399999999999999, 0, 0, 0, 0, 0, 0.8899999999999999, 0, 0, 0, 0.8499999999999999, 0, 0, 0, 0, 0, 0, 0.7999999999999998, 0.7999999999999998, 0.8599999999999999, 0, 0.9299999999999999, 0, 0, 0.8799999999999999, 0, 0.8299999999999998, 0.94, 0, 0, 0.8599999999999999, 0.8599999999999999, 0.95, 0, 0.8899999999999999, 0, 0, 0.95, 0, 0, 0, 0.8199999999999998, 0.8999999999999999, 0.8699999999999999, 0.9099999999999999, 0.9199999999999999, 0.8099999999999998, 0.8299999999999998, 0, 0.96, 0, 0, 0.8799999999999999, 0, 0, 0, 0.8899999999999999, 0.8699999999999999, 0, 0, 0.8399999999999999, 0.8999999999999999, 0, 0, 0.8899999999999999, 0.8599999999999999, 0.7999999999999998, 0, 0, 0.7999999999999998, 0.8599999999999999, 0, 0, 0, 0, 0, 0, 0, 0, 0.7999999999999998, 0, 0, 0, 0, 0, 0, 0, 0, 0, 0.8899999999999999, 0, 0, 0, 0, 0, 0, 0, 0, 0, 0, 0, 0, 0.8399999999999999, 0.8699999999999999, 0, 0, 0.94, 0, 0.95, 0, 0, 0, 0, 0.8899999999999999, 0, 0, 0, 0, 0, 0, 0.7999999999999998, 0, 0, 0.9299999999999999, 0, 0, 0, 0, 0, 0, 0, 0, 0, 0, 0, 0, 0, 0, 0, 0, 0, 0.94, 0, 0.8699999999999999, 0, 0.8099999999999998, 0, 0, 0.99, 0, 0, 0.8599999999999999, 0, 0, 0, 0.8499999999999999, 0, 0, 0.8399999999999999, 0, 0, 0, 0.8199999999999998, 0.9299999999999999, 0.8399999999999999, 0.7999999999999998, 0, 0, 0.8799999999999999, 0.8599999999999999, 0, 0, 0, 0, 0.8399999999999999, 0, 0.9199999999999999, 0, 0.9199999999999999, 0.8799999999999999, 0, 0, 0, 0, 0, 0, 0, 0, 0, 0, 0, 0, 0, 0, 0, 0.8199999999999998, 0, 0, 0, 0, 0, 0, 0, 0, 0.8799999999999999, 0, 0, 0, 0, 0, 0, 0, 0, 0, 0, 0, 0, 0, 0, 0, 0, 0, 0, 0, 0, 0.8199999999999998, 0, 0.8299999999999998, 0, 0, 0, 0, 0, 0, 0, 0, 0, 0.8299999999999998, 0, 0, 0, 0, 0, 0, 0.9099999999999999, 0, 0.8799999999999999, 0, 0, 0]\n",
      "0.75 84 [0.8399999999999999, 0, 0, 0.8799999999999999, 0.7999999999999998, 0.8699999999999999, 0.9099999999999999, 0.8899999999999999, 0, 0, 0, 0.99, 0.8399999999999999, 0.8399999999999999, 0, 0, 0, 0, 0, 0.8899999999999999, 0, 0.7799999999999998, 0, 0.8499999999999999, 0, 0.7899999999999998, 0, 0, 0, 0, 0.7999999999999998, 0.7999999999999998, 0.8599999999999999, 0, 0.9299999999999999, 0.7699999999999998, 0, 0.8799999999999999, 0, 0.8299999999999998, 0.94, 0.7899999999999998, 0, 0.8599999999999999, 0.8599999999999999, 0.95, 0, 0.8899999999999999, 0, 0.7599999999999998, 0.95, 0, 0, 0, 0.8199999999999998, 0.8999999999999999, 0.8699999999999999, 0.9099999999999999, 0.9199999999999999, 0.8099999999999998, 0.8299999999999998, 0, 0.96, 0, 0, 0.8799999999999999, 0, 0, 0, 0.8899999999999999, 0.8699999999999999, 0, 0, 0.8399999999999999, 0.8999999999999999, 0, 0, 0.8899999999999999, 0.8599999999999999, 0.7999999999999998, 0, 0, 0.7999999999999998, 0.8599999999999999, 0, 0, 0, 0, 0, 0, 0, 0, 0.7999999999999998, 0, 0, 0, 0, 0, 0.7799999999999998, 0, 0, 0, 0.8899999999999999, 0, 0, 0, 0, 0, 0, 0, 0, 0, 0, 0, 0, 0.8399999999999999, 0.8699999999999999, 0.7899999999999998, 0, 0.94, 0, 0.95, 0, 0, 0, 0, 0.8899999999999999, 0, 0.7799999999999998, 0, 0, 0, 0, 0.7999999999999998, 0, 0, 0.9299999999999999, 0, 0, 0, 0, 0, 0, 0, 0, 0, 0, 0, 0, 0, 0, 0, 0, 0, 0.94, 0, 0.8699999999999999, 0, 0.8099999999999998, 0, 0, 0.99, 0, 0, 0.8599999999999999, 0, 0, 0, 0.8499999999999999, 0, 0, 0.8399999999999999, 0, 0, 0, 0.8199999999999998, 0.9299999999999999, 0.8399999999999999, 0.7999999999999998, 0, 0, 0.8799999999999999, 0.8599999999999999, 0.7899999999999998, 0, 0, 0, 0.8399999999999999, 0, 0.9199999999999999, 0, 0.9199999999999999, 0.8799999999999999, 0, 0, 0, 0, 0, 0, 0, 0, 0, 0, 0, 0, 0, 0, 0, 0.8199999999999998, 0, 0, 0, 0, 0, 0, 0, 0, 0.8799999999999999, 0, 0, 0, 0, 0, 0.7599999999999998, 0, 0, 0, 0, 0, 0, 0, 0, 0, 0, 0, 0, 0, 0, 0.8199999999999998, 0, 0.8299999999999998, 0, 0, 0, 0, 0, 0, 0, 0, 0, 0.8299999999999998, 0, 0, 0, 0, 0, 0, 0.9099999999999999, 0, 0.8799999999999999, 0, 0, 0]\n"
     ]
    }
   ],
   "source": [
    "for conf in confs:\n",
    "    suma = 0\n",
    "    for e in confs[conf]:\n",
    "        if e!=0: suma+=1\n",
    "    print(conf,suma,confs[conf])"
   ]
  }
 ],
 "metadata": {
  "kernelspec": {
   "display_name": ".venv",
   "language": "python",
   "name": "python3"
  },
  "language_info": {
   "codemirror_mode": {
    "name": "ipython",
    "version": 3
   },
   "file_extension": ".py",
   "mimetype": "text/x-python",
   "name": "python",
   "nbconvert_exporter": "python",
   "pygments_lexer": "ipython3",
   "version": "3.11.4"
  }
 },
 "nbformat": 4,
 "nbformat_minor": 2
}
